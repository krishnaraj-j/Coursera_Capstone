{
    "cells": [
        {
            "metadata": {
                "collapsed": true
            },
            "cell_type": "markdown",
            "source": "<h1>Final Report - The Battle of Neighborhoods - Scarborough, Toronto</h1>\n<br>\n<h2>1. Introduction:</h2>\n<p>The purpose of this Project is to help people in exploring better facilities around their neighborhood. It will help people making smart and efficient decision on selecting great neighborhood out of numbers of other neighborhoods in Scarborough, Toranto.</p>\n<br>\n<p>Lots of people are migrating to various states of Canada and needed lots of research for good housing prices and reputated schools for their children. This project is for those people who are looking for better neighborhoods. For ease of accessing to Cafe, School, Super market, medical shops, grocery shops, mall, theatre, hospital, like minded people, etc.</p>\n<br>\n<p>This Project aim to create an analysis of features for a people migrating to Scarborough to search a best neighborhood as a comparative analysis between neighborhoods. The features include median housing price and better school according to ratings, crime rates of that particular area, road connectivity, weather conditions, good management for emergency, water resources both freash and waste water and excrement conveyed in sewers and recreational facilities.</p>\n<br>\n<p>It will help people to get awareness of the area and neighborhood before moving to a new city, state, country or place for their work or to start a new fresh life.</p>\n<br>\n<h2>2. Data Section</h2>\n<br>\n<p>\nData Link: https://en.wikipedia.org/wiki/List_of_postal_codes_of_Canada:_M</p>\n<br>\n<p>\nWill use Scarborough dataset which we scrapped from wikipedia on Week 3. Dataset consisting of latitude and longitude, zip codes.</p>\n<br>\n\n<h3>Foursquare API Data:</h3>\n<p>\nWe will need data about different venues in different neighborhoods of that specific borough. In order to gain that information we will use \"Foursquare\" locational information. Foursquare is a location data provider with information about all manner of venues and events within an area of interest. Such information includes venue names, locations, menus and even photos. As such, the foursquare location platform will be used as the sole data source since all the stated required information can be obtained through the API.</p>\n<br>\n<p>\nAfter finding the list of neighborhoods, we then connect to the Foursquare API to gather information about venues inside each and every neighborhood. For each neighborhood, we have chosen the radius to be 100 meter.</p>\n<br>\n<p>\nThe data retrieved from Foursquare contained information of venues within a specified distance of the longitude and latitude of the postcodes. The information obtained per venue as follows:</p>\n<br>\n<ol>\n<li>Neighborhood</li>\n<li>Neighborhood Latitude</li>\n<li>Neighborhood Longitude</li>\n<li>Venue</li>\n<li>Name of the venue</li>\n<li>Venue Latitude</li>\n<li>Venue Longitude</li>\n<li>Venue Category</li>\n</ol>"
        },
        {
            "metadata": {},
            "cell_type": "markdown",
            "source": "<h2> Scarborough , Toronto</h2>"
        },
        {
            "metadata": {},
            "cell_type": "markdown",
            "source": "<h3>Screenshots are available in code notebook</h3>"
        },
        {
            "metadata": {},
            "cell_type": "markdown",
            "source": "<h2>3. Methodology Section</h2>\n<h2>Clustering Approach:</h2>\n<p>To compare the similarities of two cities, we decided to explore neighborhoods, segment them, and group them into clusters to find similar neighborhoods in a big city like New York and Toronto. To be able to do that, we need to cluster data which is a form of unsupervised machine learning: k-means clustering algorithm.</p>"
        },
        {
            "metadata": {},
            "cell_type": "markdown",
            "source": "<h2>Work Flow:</h2>\n<p>Using credentials of Foursquare API features of near-by places of the neighborhoods would be mined. Due to http request limitations the number of places per neighborhood parameter would reasonably be set to 100 and the radius parameter would be set to 500.</p>"
        },
        {
            "metadata": {},
            "cell_type": "markdown",
            "source": "<h2>The Location:</h2>\n\n<p>Scarborough is a popular destination for new immigrants in Canada to reside. As a result, it is one of the most diverse and multicultural areas in the Greater Toronto Area, being home to various religious groups and places of worship. Although immigration has become a hot topic over the past few years with more governments seeking more restrictions on immigrants and refugees, the general trend of immigration into Canada has been one of on the rise.</p>\n<br>\n    <h2>Foursquare API:</h2>\n<p>This project have used Four-square API as its prime data gathering source as it has a database of millions of places, especially their places API which provides the ability to perform location search, location sharing and details about a business.</p>\n\n<h2>5. Discussion Section</h2>\n<h3>Problem:</h3>\n<p>The major purpose of this project, is to suggest a better neighborhood in a new city for the person who are shiffting there. Social presence in society in terms of like minded people. Connectivity to the airport, bus stand, city center, markets and other daily needs things nearby.</p>\n\n<p>Sorted list of house in terms of housing prices in a ascending or descending order\n    Sorted list of schools in terms of location, fees, rating and reviews</p>\n    <br>\n    <h2>6. Conclusion Section</h2>\n    <p>\nIn this project, using k-means cluster algorithm I separated the neighborhood into 10(Ten) different clusters and for 103 different lattitude and logitude from dataset, which have very-similar neighborhoods around them. Using the charts above results presented to a particular neighborhood based on average house prices and school rating have been made.</p>\n    <p>\nI feel rewarded with the efforts and believe this course with all the topics covered is well worthy of appreciation. This project has shown me a practical application to resolve a real situation that has impacting personal and financial impact using Data Science tools. The mapping with Folium is a very powerful technique to consolidate information and make the analysis and decision better with confidence.</p>\n\n<h2>Future Works:</h2>\n<p>This project can be continued for making it more precise in terms to find best house in Scarborough. Best means on the basis of all required things(daily needs or things we need to live a better life) around and also in terms of cost effective.</p>\n\n<h3>Libraries Which are Used to Develope the Project:</h3>\n<ul>\n<li>Pandas: For creating and manipulating dataframes.</li>\n\n<li>Folium: Python visualization library would be used to visualize the neighborhoods cluster distribution of using interactive leaflet map.</li>\n\n<li>Scikit Learn: For importing k-means clustering.</li>\n\n<li>JSON: Library to handle JSON files.</li>\n\n<li>XML: To separate data from presentation and XML stores data in plain text format.</li>\n\n<li>Geocoder: To retrieve Location Data.</li>\n\n<li>Beautiful Soup and Requests: To scrap and library to handle http requests.</li>\n\n<li>Matplotlib: Python Plotting Module.</li>\n    </ul>\n\n"
        },
        {
            "metadata": {},
            "cell_type": "code",
            "source": "",
            "execution_count": null,
            "outputs": []
        }
    ],
    "metadata": {
        "kernelspec": {
            "name": "python3",
            "display_name": "Python 3.7",
            "language": "python"
        },
        "language_info": {
            "name": "python",
            "version": "3.7.9",
            "mimetype": "text/x-python",
            "codemirror_mode": {
                "name": "ipython",
                "version": 3
            },
            "pygments_lexer": "ipython3",
            "nbconvert_exporter": "python",
            "file_extension": ".py"
        }
    },
    "nbformat": 4,
    "nbformat_minor": 1
}