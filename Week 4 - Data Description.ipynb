{
    "cells": [
        {
            "cell_type": "markdown",
            "metadata": {
                "collapsed": true
            },
            "source": "<h1>The Battle of Neighborhoods - Data Description</h1>\n<h2>Data Description:</h2>\n<p>Data Link: https://en.wikipedia.org/wiki/List_of_postal_codes_of_Canada:_M</p>\n<br>\n<p>Will use Scarborough dataset which we scrapped from wikipedia on Week 3. Dataset consisting of latitude and longitude, zip codes.\n<br>\n<h2>Foursquare API Data:</h2>\n<p>We will need data about different venues in different neighborhoods of that specific borough. In order to gain that information we will use \"Foursquare\" locational information. Foursquare is a location data provider with information about all manner of venues and events within an area of interest. Such information includes venue names, locations, menus and even photos. As such, the foursquare location platform will be used as the sole data source since all the stated required information can be obtained through the API.</p>\n<br>\n<p>After finding the list of neighborhoods, we then connect to the Foursquare API to gather information about venues inside each and every neighborhood. For each neighborhood, we have chosen the radius to be 100 meter.</p>\n<br>\n<p>The data retrieved from Foursquare contained information of venues within a specified distance of the longitude and latitude of the postcodes. The information obtained per venue as follows:</p>\n<br>\n<ol>\n<li>Neighborhood</li>\n<li>Neighborhood Latitude</li>\n<li>Neighborhood Longitude</li>\n<li>Venue</li>\n<li>Name of the venue</li>\n<li>Venue Latitude</li>\n<li>Venue Longitude</li>\n<li>Venue Category</li>\n</ol>"
        }
    ],
    "metadata": {
        "kernelspec": {
            "display_name": "Python 3.7",
            "language": "python",
            "name": "python3"
        },
        "language_info": {
            "codemirror_mode": {
                "name": "ipython",
                "version": 3
            },
            "file_extension": ".py",
            "mimetype": "text/x-python",
            "name": "python",
            "nbconvert_exporter": "python",
            "pygments_lexer": "ipython3",
            "version": "3.7.9"
        }
    },
    "nbformat": 4,
    "nbformat_minor": 1
}